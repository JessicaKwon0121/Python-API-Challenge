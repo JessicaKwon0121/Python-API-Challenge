{
 "cells": [
  {
   "cell_type": "markdown",
   "metadata": {},
   "source": [
    "# WeatherPy\n",
    "----\n",
    "\n",
    "#### Note\n",
    "* Instructions have been included for each segment. You do not have to follow them exactly, but they are included to help you think through the steps."
   ]
  },
  {
   "cell_type": "code",
   "execution_count": 123,
   "metadata": {},
   "outputs": [
    {
     "data": {
      "text/html": [
       "<div>\n",
       "<style scoped>\n",
       "    .dataframe tbody tr th:only-of-type {\n",
       "        vertical-align: middle;\n",
       "    }\n",
       "\n",
       "    .dataframe tbody tr th {\n",
       "        vertical-align: top;\n",
       "    }\n",
       "\n",
       "    .dataframe thead th {\n",
       "        text-align: right;\n",
       "    }\n",
       "</style>\n",
       "<table border=\"1\" class=\"dataframe\">\n",
       "  <thead>\n",
       "    <tr style=\"text-align: right;\">\n",
       "      <th></th>\n",
       "      <th>City_ID</th>\n",
       "      <th>City</th>\n",
       "      <th>Cloudiness</th>\n",
       "      <th>Country</th>\n",
       "      <th>Date</th>\n",
       "      <th>Humidity</th>\n",
       "      <th>Lat</th>\n",
       "      <th>Lng</th>\n",
       "      <th>Max Temp</th>\n",
       "      <th>Wind Speed</th>\n",
       "    </tr>\n",
       "  </thead>\n",
       "  <tbody>\n",
       "    <tr>\n",
       "      <th>0</th>\n",
       "      <td>0</td>\n",
       "      <td>ostrovnoy</td>\n",
       "      <td>2</td>\n",
       "      <td>RU</td>\n",
       "      <td>1558378754</td>\n",
       "      <td>72</td>\n",
       "      <td>68.05</td>\n",
       "      <td>39.51</td>\n",
       "      <td>37.50</td>\n",
       "      <td>7.16</td>\n",
       "    </tr>\n",
       "    <tr>\n",
       "      <th>1</th>\n",
       "      <td>1</td>\n",
       "      <td>mahebourg</td>\n",
       "      <td>75</td>\n",
       "      <td>MU</td>\n",
       "      <td>1558378503</td>\n",
       "      <td>74</td>\n",
       "      <td>-20.41</td>\n",
       "      <td>57.70</td>\n",
       "      <td>78.80</td>\n",
       "      <td>11.41</td>\n",
       "    </tr>\n",
       "    <tr>\n",
       "      <th>2</th>\n",
       "      <td>2</td>\n",
       "      <td>qaanaaq</td>\n",
       "      <td>25</td>\n",
       "      <td>GL</td>\n",
       "      <td>1558378755</td>\n",
       "      <td>73</td>\n",
       "      <td>77.48</td>\n",
       "      <td>-69.36</td>\n",
       "      <td>22.20</td>\n",
       "      <td>2.37</td>\n",
       "    </tr>\n",
       "    <tr>\n",
       "      <th>3</th>\n",
       "      <td>3</td>\n",
       "      <td>zhuhai</td>\n",
       "      <td>0</td>\n",
       "      <td>CN</td>\n",
       "      <td>1558378755</td>\n",
       "      <td>39</td>\n",
       "      <td>40.71</td>\n",
       "      <td>112.04</td>\n",
       "      <td>44.60</td>\n",
       "      <td>4.47</td>\n",
       "    </tr>\n",
       "    <tr>\n",
       "      <th>4</th>\n",
       "      <td>4</td>\n",
       "      <td>cape town</td>\n",
       "      <td>20</td>\n",
       "      <td>ZA</td>\n",
       "      <td>1558378755</td>\n",
       "      <td>76</td>\n",
       "      <td>-33.93</td>\n",
       "      <td>18.42</td>\n",
       "      <td>55.99</td>\n",
       "      <td>8.05</td>\n",
       "    </tr>\n",
       "  </tbody>\n",
       "</table>\n",
       "</div>"
      ],
      "text/plain": [
       "   City_ID       City  Cloudiness Country        Date  Humidity    Lat  \\\n",
       "0        0  ostrovnoy           2      RU  1558378754        72  68.05   \n",
       "1        1  mahebourg          75      MU  1558378503        74 -20.41   \n",
       "2        2    qaanaaq          25      GL  1558378755        73  77.48   \n",
       "3        3     zhuhai           0      CN  1558378755        39  40.71   \n",
       "4        4  cape town          20      ZA  1558378755        76 -33.93   \n",
       "\n",
       "      Lng  Max Temp  Wind Speed  \n",
       "0   39.51     37.50        7.16  \n",
       "1   57.70     78.80       11.41  \n",
       "2  -69.36     22.20        2.37  \n",
       "3  112.04     44.60        4.47  \n",
       "4   18.42     55.99        8.05  "
      ]
     },
     "execution_count": 123,
     "metadata": {},
     "output_type": "execute_result"
    }
   ],
   "source": [
    "import matplotlib.pyplot as plt\n",
    "import numpy as np\n",
    "import random\n",
    "import requests\n",
    "from scipy.stats import linregress\n",
    "import pandas as pd\n",
    "import json\n",
    "from api_keys import weather_api_key\n",
    "from citipy import citipy\n",
    "\n",
    "city_csv = \"../output_data/cities.csv\"\n",
    "city_df = pd.read_csv(city_csv)\n",
    "city_df.head()"
   ]
  },
  {
   "cell_type": "markdown",
   "metadata": {},
   "source": [
    "## Generate Cities List"
   ]
  },
  {
   "cell_type": "code",
   "execution_count": 124,
   "metadata": {},
   "outputs": [
    {
     "data": {
      "text/plain": [
       "284"
      ]
     },
     "execution_count": 124,
     "metadata": {},
     "output_type": "execute_result"
    }
   ],
   "source": [
    "lat_range = (-90, 90)\n",
    "lng_range = (-180, 180)\n",
    "\n",
    "lat_lng = []\n",
    "cities = []\n",
    "\n",
    "lat_uni = np.random.uniform(lat_range[0], lat_range[1], size=500)\n",
    "lng_uni = np.random.uniform(lng_range[0], lng_range[1], size=500)\n",
    "lat_lng = zip(lat_uni, lng_uni)\n",
    "\n",
    "for lat_lng in lat_lng:\n",
    "    city = citipy.nearest_city(lat_lng[0], lat_lng[1]).city_name\n",
    "    \n",
    "    if city not in cities:\n",
    "        cities.append(city)\n",
    "\n",
    "len(cities)"
   ]
  },
  {
   "cell_type": "markdown",
   "metadata": {},
   "source": [
    "### Perform API Calls\n",
    "* Perform a weather check on each city using a series of successive API calls.\n",
    "* Include a print log of each city as it'sbeing processed (with the city number and city name).\n"
   ]
  },
  {
   "cell_type": "code",
   "execution_count": 125,
   "metadata": {},
   "outputs": [
    {
     "name": "stdout",
     "output_type": "stream",
     "text": [
      "{\n",
      "    \"base\": \"stations\",\n",
      "    \"clouds\": {\n",
      "        \"all\": 3\n",
      "    },\n",
      "    \"cod\": 200,\n",
      "    \"coord\": {\n",
      "        \"lat\": -23.12,\n",
      "        \"lon\": -134.97\n",
      "    },\n",
      "    \"dt\": 1601448295,\n",
      "    \"id\": 4030556,\n",
      "    \"main\": {\n",
      "        \"feels_like\": 62.13,\n",
      "        \"grnd_level\": 1021,\n",
      "        \"humidity\": 80,\n",
      "        \"pressure\": 1024,\n",
      "        \"sea_level\": 1024,\n",
      "        \"temp\": 70.12,\n",
      "        \"temp_max\": 70.12,\n",
      "        \"temp_min\": 70.12\n",
      "    },\n",
      "    \"name\": \"Rikitea\",\n",
      "    \"sys\": {\n",
      "        \"country\": \"PF\",\n",
      "        \"sunrise\": 1601390497,\n",
      "        \"sunset\": 1601434691\n",
      "    },\n",
      "    \"timezone\": -32400,\n",
      "    \"visibility\": 10000,\n",
      "    \"weather\": [\n",
      "        {\n",
      "            \"description\": \"clear sky\",\n",
      "            \"icon\": \"01n\",\n",
      "            \"id\": 800,\n",
      "            \"main\": \"Clear\"\n",
      "        }\n",
      "    ],\n",
      "    \"wind\": {\n",
      "        \"deg\": 127,\n",
      "        \"speed\": 22.57\n",
      "    }\n",
      "}\n"
     ]
    }
   ],
   "source": [
    "url = \"http://api.openweathermap.org/data/2.5/weather?units=Imperial&\"\n",
    "\n",
    "i=1\n",
    "for city in cities:\n",
    "    query_url = url + \"appid=\" + weather_api_key + \"&q=\" + city\n",
    "    response = requests.get(query_url).json()\n",
    "    \n",
    "    print(json.dumps(response, indent=4, sort_keys=True))\n",
    "    break"
   ]
  },
  {
   "cell_type": "code",
   "execution_count": 126,
   "metadata": {
    "scrolled": true
   },
   "outputs": [
    {
     "name": "stdout",
     "output_type": "stream",
     "text": [
      "Processing Record 1 of Set 1 | rikitea\n",
      "Processing Record 2 of Set 1 | pevek\n",
      "Processing Record 3 of Set 1 | bengkulu\n",
      "Processing Record 4 of Set 1 | bayir\n",
      "Processing Record 5 of Set 1 | butaritari\n",
      "Processing Record 6 of Set 1 | cape town\n",
      "Processing Record 7 of Set 1 | vaitape\n",
      "Processing Record 8 of Set 1 | juba\n",
      "Processing Record 9 of Set 1 | upernavik\n",
      "Processing Record 10 of Set 1 | hithadhoo\n",
      "Processing Record 11 of Set 1 | codrington\n",
      "Processing Record 12 of Set 1 | albany\n",
      "Processing Record 13 of Set 1 | vostok\n",
      "City not found.Skipping...\n",
      "Processing Record 14 of Set 1 | yellowknife\n",
      "Processing Record 15 of Set 1 | lompoc\n",
      "Processing Record 16 of Set 1 | mahebourg\n",
      "Processing Record 17 of Set 1 | jala\n",
      "Processing Record 18 of Set 1 | busselton\n",
      "Processing Record 19 of Set 1 | kabalo\n",
      "Processing Record 20 of Set 1 | suluq\n",
      "Processing Record 21 of Set 1 | kununurra\n",
      "Processing Record 22 of Set 1 | bonthe\n",
      "Processing Record 23 of Set 1 | wexford\n",
      "Processing Record 24 of Set 1 | poum\n",
      "Processing Record 25 of Set 1 | katsuura\n",
      "City not found.Skipping...\n",
      "City not found.Skipping...\n",
      "Processing Record 26 of Set 1 | pangnirtung\n",
      "Processing Record 27 of Set 1 | hobart\n",
      "Processing Record 28 of Set 1 | bredasdorp\n",
      "City not found.Skipping...\n",
      "Processing Record 29 of Set 1 | castro\n",
      "Processing Record 30 of Set 1 | atuona\n",
      "Processing Record 31 of Set 1 | taybad\n",
      "Processing Record 32 of Set 1 | iqaluit\n",
      "Processing Record 33 of Set 1 | calabozo\n",
      "Processing Record 34 of Set 1 | andros town\n",
      "Processing Record 35 of Set 1 | dvinskoy\n",
      "Processing Record 36 of Set 1 | puerto ayora\n",
      "Processing Record 37 of Set 1 | kindu\n",
      "Processing Record 38 of Set 1 | oistins\n",
      "Processing Record 39 of Set 1 | narsaq\n",
      "Processing Record 40 of Set 1 | east london\n",
      "Processing Record 41 of Set 1 | tuktoyaktuk\n",
      "Processing Record 42 of Set 1 | srednekolymsk\n",
      "Processing Record 43 of Set 1 | tongzi\n",
      "Processing Record 44 of Set 1 | portland\n",
      "Processing Record 45 of Set 1 | seoul\n",
      "Processing Record 46 of Set 1 | caucaia\n",
      "Processing Record 47 of Set 1 | bystryy istok\n",
      "Processing Record 48 of Set 1 | luau\n",
      "Processing Record 49 of Set 1 | kolokani\n",
      "Processing Record 50 of Set 1 | luderitz\n",
      "City not found.Skipping...\n",
      "Processing Record 1 of Set 2 | port elizabeth\n",
      "Processing Record 2 of Set 2 | saint-philippe\n",
      "Processing Record 3 of Set 2 | barrow\n",
      "Processing Record 4 of Set 2 | ushuaia\n",
      "Processing Record 5 of Set 2 | maltahohe\n",
      "Processing Record 6 of Set 2 | bluff\n",
      "Processing Record 7 of Set 2 | vestmanna\n",
      "Processing Record 8 of Set 2 | dera ghazi khan\n",
      "Processing Record 9 of Set 2 | talnakh\n",
      "Processing Record 10 of Set 2 | lasa\n",
      "Processing Record 11 of Set 2 | port alfred\n",
      "Processing Record 12 of Set 2 | mataura\n",
      "Processing Record 13 of Set 2 | hilo\n",
      "Processing Record 14 of Set 2 | genhe\n",
      "City not found.Skipping...\n",
      "Processing Record 15 of Set 2 | vaini\n",
      "Processing Record 16 of Set 2 | kapaa\n",
      "Processing Record 17 of Set 2 | nautla\n",
      "City not found.Skipping...\n",
      "Processing Record 18 of Set 2 | touros\n",
      "Processing Record 19 of Set 2 | carnarvon\n",
      "Processing Record 20 of Set 2 | new norfolk\n",
      "Processing Record 21 of Set 2 | tiksi\n",
      "Processing Record 22 of Set 2 | gurghiu\n",
      "Processing Record 23 of Set 2 | dikson\n",
      "Processing Record 24 of Set 2 | coquimbo\n",
      "Processing Record 25 of Set 2 | punta arenas\n",
      "Processing Record 26 of Set 2 | vila franca do campo\n",
      "Processing Record 27 of Set 2 | faanui\n",
      "Processing Record 28 of Set 2 | nha trang\n",
      "Processing Record 29 of Set 2 | broken arrow\n",
      "Processing Record 30 of Set 2 | faya\n",
      "Processing Record 31 of Set 2 | tateyama\n",
      "Processing Record 32 of Set 2 | garhi khairo\n",
      "Processing Record 33 of Set 2 | tasiilaq\n",
      "Processing Record 34 of Set 2 | chokurdakh\n",
      "Processing Record 35 of Set 2 | hermanus\n",
      "Processing Record 36 of Set 2 | ilulissat\n",
      "Processing Record 37 of Set 2 | gat\n",
      "Processing Record 38 of Set 2 | tignere\n",
      "Processing Record 39 of Set 2 | hirara\n",
      "Processing Record 40 of Set 2 | soyo\n",
      "Processing Record 41 of Set 2 | sakakah\n",
      "Processing Record 42 of Set 2 | tual\n",
      "Processing Record 43 of Set 2 | ribeira grande\n",
      "Processing Record 44 of Set 2 | thompson\n",
      "Processing Record 45 of Set 2 | noumea\n",
      "Processing Record 46 of Set 2 | saskylakh\n",
      "Processing Record 47 of Set 2 | banamba\n",
      "Processing Record 48 of Set 2 | coria\n",
      "Processing Record 49 of Set 2 | arvika\n",
      "Processing Record 50 of Set 2 | avarua\n",
      "Processing Record 1 of Set 3 | arman\n",
      "Processing Record 2 of Set 3 | cidreira\n",
      "Processing Record 3 of Set 3 | constitucion\n",
      "Processing Record 4 of Set 3 | noto\n",
      "City not found.Skipping...\n",
      "Processing Record 5 of Set 3 | acari\n",
      "Processing Record 6 of Set 3 | kota bahru\n",
      "Processing Record 7 of Set 3 | kaitangata\n",
      "Processing Record 8 of Set 3 | bilma\n",
      "Processing Record 9 of Set 3 | jamestown\n",
      "Processing Record 10 of Set 3 | innisfail\n",
      "Processing Record 11 of Set 3 | haines junction\n",
      "Processing Record 12 of Set 3 | reconquista\n",
      "City not found.Skipping...\n",
      "Processing Record 13 of Set 3 | muros\n",
      "Processing Record 14 of Set 3 | bethel\n",
      "Processing Record 15 of Set 3 | camopi\n",
      "Processing Record 16 of Set 3 | kaifeng\n",
      "Processing Record 17 of Set 3 | sovetskaya gavan\n",
      "City not found.Skipping...\n",
      "Processing Record 18 of Set 3 | kieta\n",
      "Processing Record 19 of Set 3 | hambantota\n",
      "Processing Record 20 of Set 3 | porto novo\n",
      "City not found.Skipping...\n",
      "Processing Record 21 of Set 3 | nikolskoye\n",
      "Processing Record 22 of Set 3 | vardo\n",
      "Processing Record 23 of Set 3 | kashi\n",
      "Processing Record 24 of Set 3 | pisco\n",
      "Processing Record 25 of Set 3 | leona vicario\n",
      "Processing Record 26 of Set 3 | estelle\n",
      "Processing Record 27 of Set 3 | sayat\n",
      "Processing Record 28 of Set 3 | fortuna\n",
      "City not found.Skipping...\n",
      "Processing Record 29 of Set 3 | kahului\n",
      "Processing Record 30 of Set 3 | tombouctou\n",
      "Processing Record 31 of Set 3 | esperance\n",
      "Processing Record 32 of Set 3 | fort nelson\n",
      "City not found.Skipping...\n",
      "Processing Record 33 of Set 3 | ostrovnoy\n",
      "Processing Record 34 of Set 3 | zhanaozen\n",
      "Processing Record 35 of Set 3 | excelsior springs\n",
      "Processing Record 36 of Set 3 | mar del plata\n",
      "City not found.Skipping...\n",
      "Processing Record 37 of Set 3 | san andres\n",
      "Processing Record 38 of Set 3 | enniskerry\n",
      "Processing Record 39 of Set 3 | monteagudo\n",
      "Processing Record 40 of Set 3 | marystown\n",
      "Processing Record 41 of Set 3 | qaanaaq\n",
      "Processing Record 42 of Set 3 | tibu\n",
      "Processing Record 43 of Set 3 | luchegorsk\n",
      "Processing Record 44 of Set 3 | monrovia\n",
      "Processing Record 45 of Set 3 | lebu\n",
      "Processing Record 46 of Set 3 | talavera\n",
      "Processing Record 47 of Set 3 | sola\n",
      "Processing Record 48 of Set 3 | port hardy\n",
      "Processing Record 49 of Set 3 | fort-shevchenko\n",
      "Processing Record 50 of Set 3 | kruisfontein\n",
      "Processing Record 1 of Set 4 | isla vista\n",
      "City not found.Skipping...\n",
      "Processing Record 2 of Set 4 | caravelas\n",
      "Processing Record 3 of Set 4 | port blair\n",
      "City not found.Skipping...\n",
      "Processing Record 4 of Set 4 | sao filipe\n",
      "Processing Record 5 of Set 4 | young\n",
      "Processing Record 6 of Set 4 | luangwa\n",
      "Processing Record 7 of Set 4 | port lincoln\n",
      "Processing Record 8 of Set 4 | pimentel\n",
      "Processing Record 9 of Set 4 | pyapon\n",
      "Processing Record 10 of Set 4 | la crosse\n",
      "Processing Record 11 of Set 4 | henties bay\n",
      "Processing Record 12 of Set 4 | bar harbor\n",
      "Processing Record 13 of Set 4 | saskatoon\n",
      "Processing Record 14 of Set 4 | chegdomyn\n",
      "Processing Record 15 of Set 4 | samsun\n",
      "Processing Record 16 of Set 4 | kismayo\n",
      "Processing Record 17 of Set 4 | carballo\n",
      "Processing Record 18 of Set 4 | astana\n",
      "Processing Record 19 of Set 4 | sibolga\n",
      "Processing Record 20 of Set 4 | honningsvag\n",
      "Processing Record 21 of Set 4 | yulara\n",
      "Processing Record 22 of Set 4 | nome\n",
      "Processing Record 23 of Set 4 | lichinga\n",
      "Processing Record 24 of Set 4 | aklavik\n",
      "Processing Record 25 of Set 4 | tupa\n",
      "Processing Record 26 of Set 4 | deputatskiy\n",
      "Processing Record 27 of Set 4 | erzin\n",
      "Processing Record 28 of Set 4 | thinadhoo\n",
      "Processing Record 29 of Set 4 | rocha\n",
      "Processing Record 30 of Set 4 | awjilah\n",
      "Processing Record 31 of Set 4 | sikonge\n",
      "Processing Record 32 of Set 4 | shirdi\n",
      "Processing Record 33 of Set 4 | kharp\n",
      "Processing Record 34 of Set 4 | nouakchott\n",
      "Processing Record 35 of Set 4 | safaga\n",
      "Processing Record 36 of Set 4 | khatanga\n",
      "Processing Record 37 of Set 4 | macau\n",
      "Processing Record 38 of Set 4 | ibra\n",
      "Processing Record 39 of Set 4 | puerto escondido\n",
      "Processing Record 40 of Set 4 | champasak\n",
      "Processing Record 41 of Set 4 | concordia\n"
     ]
    },
    {
     "name": "stdout",
     "output_type": "stream",
     "text": [
      "City not found.Skipping...\n",
      "City not found.Skipping...\n",
      "Processing Record 42 of Set 4 | daoukro\n",
      "City not found.Skipping...\n",
      "Processing Record 43 of Set 4 | kodiak\n",
      "Processing Record 44 of Set 4 | victoria\n",
      "Processing Record 45 of Set 4 | naranjito\n",
      "Processing Record 46 of Set 4 | skagen\n",
      "Processing Record 47 of Set 4 | ofunato\n",
      "Processing Record 48 of Set 4 | chuy\n",
      "City not found.Skipping...\n",
      "Processing Record 49 of Set 4 | komsomolskiy\n",
      "City not found.Skipping...\n",
      "Processing Record 50 of Set 4 | provideniya\n",
      "Processing Record 1 of Set 5 | saint-augustin\n",
      "Processing Record 2 of Set 5 | samarai\n",
      "Processing Record 3 of Set 5 | korgen\n",
      "Processing Record 4 of Set 5 | georgetown\n",
      "Processing Record 5 of Set 5 | klaksvik\n",
      "Processing Record 6 of Set 5 | hervey bay\n",
      "City not found.Skipping...\n",
      "City not found.Skipping...\n",
      "Processing Record 7 of Set 5 | port-gentil\n",
      "Processing Record 8 of Set 5 | cap malheureux\n",
      "Processing Record 9 of Set 5 | hadejia\n",
      "Processing Record 10 of Set 5 | college\n",
      "Processing Record 11 of Set 5 | ust-ishim\n",
      "Processing Record 12 of Set 5 | avera\n",
      "Processing Record 13 of Set 5 | ndele\n",
      "Processing Record 14 of Set 5 | mount isa\n",
      "City not found.Skipping...\n",
      "City not found.Skipping...\n",
      "Processing Record 15 of Set 5 | hofn\n",
      "Processing Record 16 of Set 5 | sioux lookout\n",
      "Processing Record 17 of Set 5 | hokitika\n",
      "Processing Record 18 of Set 5 | puerto madryn\n",
      "Processing Record 19 of Set 5 | atar\n",
      "Processing Record 20 of Set 5 | puerto del rosario\n",
      "Processing Record 21 of Set 5 | hanmer springs\n",
      "Processing Record 22 of Set 5 | ponta do sol\n",
      "Processing Record 23 of Set 5 | bambous virieux\n",
      "Processing Record 24 of Set 5 | puerto lempira\n",
      "City not found.Skipping...\n",
      "Processing Record 25 of Set 5 | airai\n",
      "Processing Record 26 of Set 5 | akyab\n",
      "Processing Record 27 of Set 5 | kayseri\n",
      "Processing Record 28 of Set 5 | saldanha\n",
      "Processing Record 29 of Set 5 | orlik\n",
      "Processing Record 30 of Set 5 | capitao poco\n",
      "Processing Record 31 of Set 5 | tete\n",
      "Processing Record 32 of Set 5 | sumbawanga\n",
      "Processing Record 33 of Set 5 | salinas\n",
      "Processing Record 34 of Set 5 | edd\n",
      "Processing Record 35 of Set 5 | pochutla\n",
      "City not found.Skipping...\n",
      "Processing Record 36 of Set 5 | arraial do cabo\n",
      "Processing Record 37 of Set 5 | cabo san lucas\n",
      "City not found.Skipping...\n",
      "Processing Record 38 of Set 5 | sao felix do xingu\n",
      "Processing Record 39 of Set 5 | romitan\n",
      "City not found.Skipping...\n",
      "Processing Record 40 of Set 5 | bani walid\n",
      "Processing Record 41 of Set 5 | pauini\n",
      "Processing Record 42 of Set 5 | ayan\n",
      "Processing Record 43 of Set 5 | laguna\n",
      "Processing Record 44 of Set 5 | qaqortoq\n",
      "Processing Record 45 of Set 5 | victor harbor\n",
      "Processing Record 46 of Set 5 | lagoa\n",
      "City not found.Skipping...\n",
      "Processing Record 47 of Set 5 | tuatapere\n",
      "Processing Record 48 of Set 5 | barra do corda\n",
      "Processing Record 49 of Set 5 | torbay\n",
      "Processing Record 50 of Set 5 | kudahuvadhoo\n",
      "Processing Record 1 of Set 6 | cicero dantas\n",
      "Processing Record 2 of Set 6 | san patricio\n",
      "Processing Record 3 of Set 6 | roma\n",
      "Processing Record 4 of Set 6 | barranca\n"
     ]
    }
   ],
   "source": [
    "url = \"http://api.openweathermap.org/data/2.5/weather?units=Imperial&\"\n",
    "\n",
    "lat = []\n",
    "lon = []\n",
    "temp_max = []\n",
    "humidity = []\n",
    "speed = []\n",
    "name = []\n",
    "dt = []\n",
    "clouds = []\n",
    "country = []\n",
    "\n",
    "i=1\n",
    "j=1\n",
    "for city in cities:\n",
    "    query_url = url + \"appid=\" + weather_api_key + \"&q=\" + city\n",
    "    response = requests.get(query_url).json()\n",
    "    \n",
    "    try:\n",
    "        lat.append(response[\"coord\"][\"lat\"])\n",
    "        lon.append(response[\"coord\"][\"lon\"])\n",
    "        temp_max.append(response[\"main\"][\"temp_max\"])\n",
    "        humidity.append(response[\"main\"][\"humidity\"])\n",
    "        speed.append(response[\"wind\"][\"speed\"])\n",
    "        clouds.append(response[\"clouds\"][\"all\"])\n",
    "        name.append(response[\"name\"])\n",
    "        dt.append(response[\"dt\"])\n",
    "        country.append(response[\"sys\"][\"country\"])\n",
    "        print(f\"Processing Record {i} of Set {j} | {city}\")\n",
    "        i+=1\n",
    "        \n",
    "        if i > 50:\n",
    "            j+=1\n",
    "            i=1\n",
    "            \n",
    "    except: \n",
    "        print(f\"City not found.Skipping...\")\n",
    "    pass\n"
   ]
  },
  {
   "cell_type": "markdown",
   "metadata": {},
   "source": [
    "### Convert Raw Data to DataFrame\n",
    "* Export the city data into a .csv.\n",
    "* Display the DataFrame"
   ]
  },
  {
   "cell_type": "code",
   "execution_count": 127,
   "metadata": {},
   "outputs": [
    {
     "data": {
      "text/html": [
       "<div>\n",
       "<style scoped>\n",
       "    .dataframe tbody tr th:only-of-type {\n",
       "        vertical-align: middle;\n",
       "    }\n",
       "\n",
       "    .dataframe tbody tr th {\n",
       "        vertical-align: top;\n",
       "    }\n",
       "\n",
       "    .dataframe thead th {\n",
       "        text-align: right;\n",
       "    }\n",
       "</style>\n",
       "<table border=\"1\" class=\"dataframe\">\n",
       "  <thead>\n",
       "    <tr style=\"text-align: right;\">\n",
       "      <th></th>\n",
       "      <th>City</th>\n",
       "      <th>Lat</th>\n",
       "      <th>Lng</th>\n",
       "      <th>Max Temp</th>\n",
       "      <th>Humidity</th>\n",
       "      <th>Cloudiness</th>\n",
       "      <th>Wind Speed</th>\n",
       "      <th>Country</th>\n",
       "      <th>Date</th>\n",
       "    </tr>\n",
       "  </thead>\n",
       "  <tbody>\n",
       "    <tr>\n",
       "      <th>0</th>\n",
       "      <td>Rikitea</td>\n",
       "      <td>-23.12</td>\n",
       "      <td>-134.97</td>\n",
       "      <td>70.12</td>\n",
       "      <td>80</td>\n",
       "      <td>3</td>\n",
       "      <td>22.57</td>\n",
       "      <td>PF</td>\n",
       "      <td>1601448295</td>\n",
       "    </tr>\n",
       "    <tr>\n",
       "      <th>1</th>\n",
       "      <td>Pevek</td>\n",
       "      <td>69.70</td>\n",
       "      <td>170.31</td>\n",
       "      <td>38.37</td>\n",
       "      <td>78</td>\n",
       "      <td>97</td>\n",
       "      <td>16.26</td>\n",
       "      <td>RU</td>\n",
       "      <td>1601448296</td>\n",
       "    </tr>\n",
       "    <tr>\n",
       "      <th>2</th>\n",
       "      <td>Bengkulu</td>\n",
       "      <td>-3.80</td>\n",
       "      <td>102.27</td>\n",
       "      <td>87.87</td>\n",
       "      <td>59</td>\n",
       "      <td>0</td>\n",
       "      <td>13.96</td>\n",
       "      <td>ID</td>\n",
       "      <td>1601448296</td>\n",
       "    </tr>\n",
       "    <tr>\n",
       "      <th>3</th>\n",
       "      <td>Bayir</td>\n",
       "      <td>37.27</td>\n",
       "      <td>28.22</td>\n",
       "      <td>68.00</td>\n",
       "      <td>68</td>\n",
       "      <td>0</td>\n",
       "      <td>3.36</td>\n",
       "      <td>TR</td>\n",
       "      <td>1601448152</td>\n",
       "    </tr>\n",
       "    <tr>\n",
       "      <th>4</th>\n",
       "      <td>Butaritari</td>\n",
       "      <td>3.07</td>\n",
       "      <td>172.79</td>\n",
       "      <td>82.35</td>\n",
       "      <td>76</td>\n",
       "      <td>0</td>\n",
       "      <td>10.42</td>\n",
       "      <td>KI</td>\n",
       "      <td>1601448113</td>\n",
       "    </tr>\n",
       "  </tbody>\n",
       "</table>\n",
       "</div>"
      ],
      "text/plain": [
       "         City    Lat     Lng  Max Temp  Humidity  Cloudiness  Wind Speed  \\\n",
       "0     Rikitea -23.12 -134.97     70.12        80           3       22.57   \n",
       "1       Pevek  69.70  170.31     38.37        78          97       16.26   \n",
       "2    Bengkulu  -3.80  102.27     87.87        59           0       13.96   \n",
       "3       Bayir  37.27   28.22     68.00        68           0        3.36   \n",
       "4  Butaritari   3.07  172.79     82.35        76           0       10.42   \n",
       "\n",
       "  Country        Date  \n",
       "0      PF  1601448295  \n",
       "1      RU  1601448296  \n",
       "2      ID  1601448296  \n",
       "3      TR  1601448152  \n",
       "4      KI  1601448113  "
      ]
     },
     "execution_count": 127,
     "metadata": {},
     "output_type": "execute_result"
    }
   ],
   "source": [
    "weather_dict = {\n",
    "    \"City\": name,\n",
    "    \"Lat\": lat,\n",
    "    \"Lng\": lon,\n",
    "    \"Max Temp\" : temp_max,\n",
    "    \"Humidity\" : humidity,\n",
    "    \"Cloudiness\" : clouds,\n",
    "    \"Wind Speed\" : speed,\n",
    "    \"Country\" : country,\n",
    "    \"Date\" : dt\n",
    "}\n",
    "weather_data = pd.DataFrame(weather_dict)\n",
    "weather_data.head()   "
   ]
  },
  {
   "cell_type": "code",
   "execution_count": 128,
   "metadata": {},
   "outputs": [],
   "source": [
    "weather_data.to_csv(\"../output_data/weather_data.csv\")"
   ]
  },
  {
   "cell_type": "code",
   "execution_count": 129,
   "metadata": {},
   "outputs": [
    {
     "data": {
      "text/html": [
       "<div>\n",
       "<style scoped>\n",
       "    .dataframe tbody tr th:only-of-type {\n",
       "        vertical-align: middle;\n",
       "    }\n",
       "\n",
       "    .dataframe tbody tr th {\n",
       "        vertical-align: top;\n",
       "    }\n",
       "\n",
       "    .dataframe thead th {\n",
       "        text-align: right;\n",
       "    }\n",
       "</style>\n",
       "<table border=\"1\" class=\"dataframe\">\n",
       "  <thead>\n",
       "    <tr style=\"text-align: right;\">\n",
       "      <th></th>\n",
       "      <th>Lat</th>\n",
       "      <th>Lng</th>\n",
       "      <th>Max Temp</th>\n",
       "      <th>Humidity</th>\n",
       "      <th>Cloudiness</th>\n",
       "      <th>Wind Speed</th>\n",
       "      <th>Date</th>\n",
       "    </tr>\n",
       "  </thead>\n",
       "  <tbody>\n",
       "    <tr>\n",
       "      <th>count</th>\n",
       "      <td>254.000000</td>\n",
       "      <td>254.000000</td>\n",
       "      <td>254.000000</td>\n",
       "      <td>254.000000</td>\n",
       "      <td>254.000000</td>\n",
       "      <td>254.000000</td>\n",
       "      <td>2.540000e+02</td>\n",
       "    </tr>\n",
       "    <tr>\n",
       "      <th>mean</th>\n",
       "      <td>16.663858</td>\n",
       "      <td>9.432559</td>\n",
       "      <td>64.335433</td>\n",
       "      <td>73.102362</td>\n",
       "      <td>47.098425</td>\n",
       "      <td>8.175984</td>\n",
       "      <td>1.601448e+09</td>\n",
       "    </tr>\n",
       "    <tr>\n",
       "      <th>std</th>\n",
       "      <td>34.779864</td>\n",
       "      <td>92.161504</td>\n",
       "      <td>16.861350</td>\n",
       "      <td>20.080996</td>\n",
       "      <td>39.965526</td>\n",
       "      <td>6.286720</td>\n",
       "      <td>8.198254e+01</td>\n",
       "    </tr>\n",
       "    <tr>\n",
       "      <th>min</th>\n",
       "      <td>-54.800000</td>\n",
       "      <td>-175.200000</td>\n",
       "      <td>14.000000</td>\n",
       "      <td>9.000000</td>\n",
       "      <td>0.000000</td>\n",
       "      <td>0.000000</td>\n",
       "      <td>1.601448e+09</td>\n",
       "    </tr>\n",
       "    <tr>\n",
       "      <th>25%</th>\n",
       "      <td>-13.602500</td>\n",
       "      <td>-67.317500</td>\n",
       "      <td>51.850000</td>\n",
       "      <td>64.250000</td>\n",
       "      <td>3.000000</td>\n",
       "      <td>3.787500</td>\n",
       "      <td>1.601448e+09</td>\n",
       "    </tr>\n",
       "    <tr>\n",
       "      <th>50%</th>\n",
       "      <td>19.475000</td>\n",
       "      <td>13.905000</td>\n",
       "      <td>66.000000</td>\n",
       "      <td>77.500000</td>\n",
       "      <td>40.000000</td>\n",
       "      <td>6.930000</td>\n",
       "      <td>1.601448e+09</td>\n",
       "    </tr>\n",
       "    <tr>\n",
       "      <th>75%</th>\n",
       "      <td>44.242500</td>\n",
       "      <td>80.977500</td>\n",
       "      <td>78.010000</td>\n",
       "      <td>87.000000</td>\n",
       "      <td>90.000000</td>\n",
       "      <td>10.830000</td>\n",
       "      <td>1.601448e+09</td>\n",
       "    </tr>\n",
       "    <tr>\n",
       "      <th>max</th>\n",
       "      <td>77.480000</td>\n",
       "      <td>172.820000</td>\n",
       "      <td>103.600000</td>\n",
       "      <td>100.000000</td>\n",
       "      <td>100.000000</td>\n",
       "      <td>49.440000</td>\n",
       "      <td>1.601448e+09</td>\n",
       "    </tr>\n",
       "  </tbody>\n",
       "</table>\n",
       "</div>"
      ],
      "text/plain": [
       "              Lat         Lng    Max Temp    Humidity  Cloudiness  Wind Speed  \\\n",
       "count  254.000000  254.000000  254.000000  254.000000  254.000000  254.000000   \n",
       "mean    16.663858    9.432559   64.335433   73.102362   47.098425    8.175984   \n",
       "std     34.779864   92.161504   16.861350   20.080996   39.965526    6.286720   \n",
       "min    -54.800000 -175.200000   14.000000    9.000000    0.000000    0.000000   \n",
       "25%    -13.602500  -67.317500   51.850000   64.250000    3.000000    3.787500   \n",
       "50%     19.475000   13.905000   66.000000   77.500000   40.000000    6.930000   \n",
       "75%     44.242500   80.977500   78.010000   87.000000   90.000000   10.830000   \n",
       "max     77.480000  172.820000  103.600000  100.000000  100.000000   49.440000   \n",
       "\n",
       "               Date  \n",
       "count  2.540000e+02  \n",
       "mean   1.601448e+09  \n",
       "std    8.198254e+01  \n",
       "min    1.601448e+09  \n",
       "25%    1.601448e+09  \n",
       "50%    1.601448e+09  \n",
       "75%    1.601448e+09  \n",
       "max    1.601448e+09  "
      ]
     },
     "execution_count": 129,
     "metadata": {},
     "output_type": "execute_result"
    }
   ],
   "source": [
    "weather_data.describe()"
   ]
  },
  {
   "cell_type": "markdown",
   "metadata": {},
   "source": [
    "## Inspect the data and remove the cities where the humidity > 100%.\n",
    "----\n",
    "Skip this step if there are no cities that have humidity > 100%. "
   ]
  },
  {
   "cell_type": "code",
   "execution_count": 130,
   "metadata": {},
   "outputs": [
    {
     "data": {
      "text/plain": [
       "0"
      ]
     },
     "execution_count": 130,
     "metadata": {},
     "output_type": "execute_result"
    }
   ],
   "source": [
    "weather_humidity = weather_data.loc[weather_data[\"Humidity\"]>100]\n",
    "weather_humidity[\"City\"].count()"
   ]
  },
  {
   "cell_type": "markdown",
   "metadata": {},
   "source": [
    "## Plotting the Data\n",
    "* Use proper labeling of the plots using plot titles (including date of analysis) and axes labels.\n",
    "* Save the plotted figures as .pngs."
   ]
  },
  {
   "cell_type": "markdown",
   "metadata": {},
   "source": [
    "## Latitude vs. Temperature Plot"
   ]
  },
  {
   "cell_type": "code",
   "execution_count": 131,
   "metadata": {
    "scrolled": true
   },
   "outputs": [
    {
     "data": {
      "image/png": "[encoded data removed]",
      "text/plain": [
       "<Figure size 432x288 with 1 Axes>"
      ]
     },
     "metadata": {
      "needs_background": "light"
     },
     "output_type": "display_data"
    }
   ],
   "source": [
    "plt.scatter(weather_data[\"Lat\"], weather_data[\"Max Temp\"], marker=\"o\")\n",
    "\n",
    "plt.title(\"City Latitude vs. Max Temperature(04/01/20)\")\n",
    "plt.ylabel(\"Max Temperature(F)\")\n",
    "plt.xlabel(\"Latitude\")\n",
    "plt.grid(True)\n",
    "\n",
    "plt.savefig(\"TemperatureInWorldCities.png\")\n",
    "plt.show()"
   ]
  },
  {
   "cell_type": "markdown",
   "metadata": {},
   "source": [
    "## Latitude vs. Humidity Plot"
   ]
  },
  {
   "cell_type": "code",
   "execution_count": 132,
   "metadata": {},
   "outputs": [
    {
     "data": {
      "image/png": "[encoded data removed]",
      "text/plain": [
       "<Figure size 432x288 with 1 Axes>"
      ]
     },
     "metadata": {
      "needs_background": "light"
     },
     "output_type": "display_data"
    }
   ],
   "source": [
    "plt.scatter(weather_data[\"Lat\"], weather_data[\"Humidity\"], marker=\"o\")\n",
    "\n",
    "plt.title(\"City Latitude vs. Humidity(04/01/20)\")\n",
    "plt.ylabel(\"Humidity(%)\")\n",
    "plt.xlabel(\"Latitude\")\n",
    "plt.grid(True)\n",
    "\n",
    "plt.savefig(\"HumidityInWorldCities.png\")\n",
    "plt.show()"
   ]
  },
  {
   "cell_type": "markdown",
   "metadata": {},
   "source": [
    "## Latitude vs. Cloudiness Plot"
   ]
  },
  {
   "cell_type": "code",
   "execution_count": 133,
   "metadata": {},
   "outputs": [
    {
     "data": {
      "image/png": "[encoded data removed]",
      "text/plain": [
       "<Figure size 432x288 with 1 Axes>"
      ]
     },
     "metadata": {
      "needs_background": "light"
     },
     "output_type": "display_data"
    }
   ],
   "source": [
    "plt.scatter(weather_data[\"Lat\"], weather_data[\"Cloudiness\"], marker=\"o\")\n",
    "\n",
    "plt.title(\"City Latitude vs. Cloudiness(04/01/20)\")\n",
    "plt.ylabel(\"Cloudiness(%)\")\n",
    "plt.xlabel(\"Latitude\")\n",
    "plt.grid(True)\n",
    "\n",
    "plt.savefig(\"CloudinessInWorldCities.png\")\n",
    "plt.show()"
   ]
  },
  {
   "cell_type": "markdown",
   "metadata": {},
   "source": [
    "## Latitude vs. Wind Speed Plot"
   ]
  },
  {
   "cell_type": "code",
   "execution_count": 134,
   "metadata": {},
   "outputs": [
    {
     "data": {
      "image/png": "[encoded data removed]",
      "text/plain": [
       "<Figure size 432x288 with 1 Axes>"
      ]
     },
     "metadata": {
      "needs_background": "light"
     },
     "output_type": "display_data"
    }
   ],
   "source": [
    "plt.scatter(weather_data[\"Lat\"], weather_data[\"Wind Speed\"], marker=\"o\")\n",
    "\n",
    "plt.title(\"City Latitude vs. Wind Speed(04/01/20)\")\n",
    "plt.ylabel(\"Wind Speed(mph)\")\n",
    "plt.xlabel(\"Latitude\")\n",
    "plt.grid(True)\n",
    "\n",
    "plt.savefig(\"WindSpeedInWorldCities.png\")\n",
    "plt.show()"
   ]
  },
  {
   "cell_type": "markdown",
   "metadata": {},
   "source": [
    "## Linear Regression"
   ]
  },
  {
   "cell_type": "markdown",
   "metadata": {},
   "source": [
    "####  Northern Hemisphere - Max Temp vs. Latitude Linear Regression"
   ]
  },
  {
   "cell_type": "code",
   "execution_count": 135,
   "metadata": {},
   "outputs": [],
   "source": [
    "north = weather_data.loc[weather_data[\"Lat\"] >= 0]\n",
    "north_df = pd.DataFrame(north)\n",
    "\n",
    "south = weather_data.loc[weather_data[\"Lat\"] < 0]\n",
    "south_df = pd.DataFrame(south)"
   ]
  },
  {
   "cell_type": "code",
   "execution_count": 136,
   "metadata": {},
   "outputs": [
    {
     "name": "stdout",
     "output_type": "stream",
     "text": [
      "Tge r-value is: 0.7576420857330392\n"
     ]
    },
    {
     "data": {
      "image/png": "[encoded data removed]",
      "text/plain": [
       "<Figure size 432x288 with 1 Axes>"
      ]
     },
     "metadata": {
      "needs_background": "light"
     },
     "output_type": "display_data"
    }
   ],
   "source": [
    "x_values = north_df[\"Lat\"].astype('float')\n",
    "y_values = north_df[\"Max Temp\"].astype('float')\n",
    "\n",
    "(slope, intercept, rvalue, pvalue, stderr) = linregress(x_values, y_values)\n",
    "regress_values = x_values * slope + intercept\n",
    "line_eq = \"y = \" + str(round(slope,2)) + \"x + \" + str(round(intercept,2))\n",
    "\n",
    "plt.scatter(x_values,y_values)\n",
    "plt.plot(x_values,regress_values,\"r-\")\n",
    "plt.annotate(line_eq,(6,10),fontsize=15,color=\"red\")\n",
    "plt.xlabel('Latitude')\n",
    "plt.ylabel('Max Temp')\n",
    "\n",
    "print(f\"The r-value is: {rvalue**2}\")\n",
    "\n",
    "plt.show()\n"
   ]
  },
  {
   "cell_type": "markdown",
   "metadata": {},
   "source": [
    "In Northern Hemisphere, it present strong correlation(r > 0.7) between Latitude and temperatures. We can find the high temps near the equator and low temps near the north pole."
   ]
  },
  {
   "cell_type": "markdown",
   "metadata": {},
   "source": [
    "####  Southern Hemisphere - Max Temp vs. Latitude Linear Regression"
   ]
  },
  {
   "cell_type": "code",
   "execution_count": 137,
   "metadata": {},
   "outputs": [
    {
     "name": "stdout",
     "output_type": "stream",
     "text": [
      "Tge r-value is: 0.5651390982511253\n"
     ]
    },
    {
     "data": {
      "image/png": "[encoded data removed]",
      "text/plain": [
       "<Figure size 432x288 with 1 Axes>"
      ]
     },
     "metadata": {
      "needs_background": "light"
     },
     "output_type": "display_data"
    }
   ],
   "source": [
    "x_values = south_df[\"Lat\"].astype('float')\n",
    "y_values = south_df[\"Max Temp\"].astype('float')\n",
    "\n",
    "(slope, intercept, rvalue, pvalue, stderr) = linregress(x_values, y_values)\n",
    "regress_values = x_values * slope + intercept\n",
    "line_eq = \"y = \" + str(round(slope,2)) + \"x + \" + str(round(intercept,2))\n",
    "\n",
    "plt.scatter(x_values,y_values)\n",
    "plt.plot(x_values,regress_values,\"r-\")\n",
    "plt.annotate(line_eq,(6,10),fontsize=15,color=\"red\")\n",
    "plt.xlabel('Latitude')\n",
    "plt.ylabel('Max Temp')\n",
    "\n",
    "print(f\"The r-value is: {rvalue**2}\")\n",
    "\n",
    "plt.show()\n"
   ]
  },
  {
   "cell_type": "markdown",
   "metadata": {},
   "source": [
    "In Southern Hemisphere, it also present moderate correlation(0.5= <r < 0.7) between Latitude and temperatures. We can find the high temps near the equator and low temps near the south pole."
   ]
  },
  {
   "cell_type": "markdown",
   "metadata": {},
   "source": [
    "####  Northern Hemisphere - Humidity (%) vs. Latitude Linear Regression"
   ]
  },
  {
   "cell_type": "code",
   "execution_count": 138,
   "metadata": {},
   "outputs": [
    {
     "name": "stdout",
     "output_type": "stream",
     "text": [
      "Tge r-value is: 0.03890561337494894\n"
     ]
    },
    {
     "data": {
      "image/png": "[encoded data removed]",
      "text/plain": [
       "<Figure size 432x288 with 1 Axes>"
      ]
     },
     "metadata": {
      "needs_background": "light"
     },
     "output_type": "display_data"
    }
   ],
   "source": [
    "x_values = north_df[\"Lat\"].astype('float')\n",
    "y_values = north_df[\"Humidity\"].astype('float')\n",
    "\n",
    "(slope, intercept, rvalue, pvalue, stderr) = linregress(x_values, y_values)\n",
    "regress_values = x_values * slope + intercept\n",
    "line_eq = \"y = \" + str(round(slope,2)) + \"x + \" + str(round(intercept,2))\n",
    "\n",
    "plt.scatter(x_values,y_values)\n",
    "plt.plot(x_values,regress_values,\"r-\")\n",
    "plt.annotate(line_eq,(6,10),fontsize=15,color=\"red\")\n",
    "plt.xlabel('Latitude')\n",
    "plt.ylabel('Humidity')\n",
    "\n",
    "print(f\"The r-value is: {rvalue**2}\")\n",
    "\n",
    "plt.show()"
   ]
  },
  {
   "cell_type": "markdown",
   "metadata": {},
   "source": [
    "The Northern/Southern both have very weak correlation(r < 0.3) between the humidity and latitude."
   ]
  },
  {
   "cell_type": "markdown",
   "metadata": {},
   "source": [
    "####  Southern Hemisphere - Humidity (%) vs. Latitude Linear Regression"
   ]
  },
  {
   "cell_type": "code",
   "execution_count": 139,
   "metadata": {},
   "outputs": [
    {
     "name": "stdout",
     "output_type": "stream",
     "text": [
      "Tge r-value is: 0.0011384336663308103\n"
     ]
    },
    {
     "data": {
      "image/png": "[encoded data removed]",
      "text/plain": [
       "<Figure size 432x288 with 1 Axes>"
      ]
     },
     "metadata": {
      "needs_background": "light"
     },
     "output_type": "display_data"
    }
   ],
   "source": [
    "x_values = south_df[\"Lat\"].astype('float')\n",
    "y_values = south_df[\"Humidity\"].astype('float')\n",
    "\n",
    "(slope, intercept, rvalue, pvalue, stderr) = linregress(x_values, y_values)\n",
    "regress_values = x_values * slope + intercept\n",
    "line_eq = \"y = \" + str(round(slope,2)) + \"x + \" + str(round(intercept,2))\n",
    "\n",
    "plt.scatter(x_values,y_values)\n",
    "plt.plot(x_values,regress_values,\"r-\")\n",
    "plt.annotate(line_eq,(6,10),fontsize=15,color=\"red\")\n",
    "plt.xlabel('Latitude')\n",
    "plt.ylabel('Humidity')\n",
    "\n",
    "print(f\"The r-value is: {rvalue**2}\")\n",
    "\n",
    "plt.show()"
   ]
  },
  {
   "cell_type": "markdown",
   "metadata": {},
   "source": [
    "####  Northern Hemisphere - Cloudiness (%) vs. Latitude Linear Regression"
   ]
  },
  {
   "cell_type": "code",
   "execution_count": 140,
   "metadata": {},
   "outputs": [
    {
     "name": "stdout",
     "output_type": "stream",
     "text": [
      "Tge r-value is: 0.0434852241716523\n"
     ]
    },
    {
     "data": {
      "image/png": "[encoded data removed]",
      "text/plain": [
       "<Figure size 432x288 with 1 Axes>"
      ]
     },
     "metadata": {
      "needs_background": "light"
     },
     "output_type": "display_data"
    }
   ],
   "source": [
    "x_values = north_df[\"Lat\"].astype('float')\n",
    "y_values = north_df[\"Cloudiness\"].astype('float')\n",
    "\n",
    "(slope, intercept, rvalue, pvalue, stderr) = linregress(x_values, y_values)\n",
    "regress_values = x_values * slope + intercept\n",
    "line_eq = \"y = \" + str(round(slope,2)) + \"x + \" + str(round(intercept,2))\n",
    "\n",
    "plt.scatter(x_values,y_values)\n",
    "plt.plot(x_values,regress_values,\"r-\")\n",
    "plt.annotate(line_eq,(6,10),fontsize=15,color=\"red\")\n",
    "plt.xlabel('Latitude')\n",
    "plt.ylabel('Cloudiness')\n",
    "\n",
    "print(f\"The r-value is: {rvalue**2}\")\n",
    "\n",
    "plt.show()"
   ]
  },
  {
   "cell_type": "markdown",
   "metadata": {},
   "source": [
    "We could say it has no correlation( r < 0.3) between the cloudiness and the latitude in both Northern/Southern Hemisphere."
   ]
  },
  {
   "cell_type": "markdown",
   "metadata": {},
   "source": [
    "####  Southern Hemisphere - Cloudiness (%) vs. Latitude Linear Regression"
   ]
  },
  {
   "cell_type": "code",
   "execution_count": 141,
   "metadata": {},
   "outputs": [
    {
     "name": "stdout",
     "output_type": "stream",
     "text": [
      "Tge r-value is: 1.5004696311161898e-05\n"
     ]
    },
    {
     "data": {
      "image/png": "[encoded data removed]",
      "text/plain": [
       "<Figure size 432x288 with 1 Axes>"
      ]
     },
     "metadata": {
      "needs_background": "light"
     },
     "output_type": "display_data"
    }
   ],
   "source": [
    "x_values = south_df[\"Lat\"].astype('float')\n",
    "y_values = south_df[\"Cloudiness\"].astype('float')\n",
    "\n",
    "(slope, intercept, rvalue, pvalue, stderr) = linregress(x_values, y_values)\n",
    "regress_values = x_values * slope + intercept\n",
    "line_eq = \"y = \" + str(round(slope,2)) + \"x + \" + str(round(intercept,2))\n",
    "\n",
    "plt.scatter(x_values,y_values)\n",
    "plt.plot(x_values,regress_values,\"r-\")\n",
    "plt.annotate(line_eq,(6,10),fontsize=15,color=\"red\")\n",
    "plt.xlabel('Latitude')\n",
    "plt.ylabel('Cloudiness')\n",
    "\n",
    "print(f\"The r-value is: {rvalue**2}\")\n",
    "\n",
    "plt.show()"
   ]
  },
  {
   "cell_type": "markdown",
   "metadata": {},
   "source": [
    "####  Northern Hemisphere - Wind Speed (mph) vs. Latitude Linear Regression"
   ]
  },
  {
   "cell_type": "code",
   "execution_count": 142,
   "metadata": {},
   "outputs": [
    {
     "name": "stdout",
     "output_type": "stream",
     "text": [
      "Tge r-value is: 0.032938967454474125\n"
     ]
    },
    {
     "data": {
      "image/png": "[encoded data removed]",
      "text/plain": [
       "<Figure size 432x288 with 1 Axes>"
      ]
     },
     "metadata": {
      "needs_background": "light"
     },
     "output_type": "display_data"
    }
   ],
   "source": [
    "x_values = north_df[\"Lat\"].astype('float')\n",
    "y_values = north_df[\"Wind Speed\"].astype('float')\n",
    "\n",
    "(slope, intercept, rvalue, pvalue, stderr) = linregress(x_values, y_values)\n",
    "regress_values = x_values * slope + intercept\n",
    "line_eq = \"y = \" + str(round(slope,2)) + \"x + \" + str(round(intercept,2))\n",
    "\n",
    "plt.scatter(x_values,y_values)\n",
    "plt.plot(x_values,regress_values,\"r-\")\n",
    "plt.annotate(line_eq,(6,10),fontsize=15,color=\"red\")\n",
    "plt.xlabel('Latitude')\n",
    "plt.ylabel('Wind Speed')\n",
    "\n",
    "print(f\"The r-value is: {rvalue**2}\")\n",
    "\n",
    "plt.show()"
   ]
  },
  {
   "cell_type": "markdown",
   "metadata": {},
   "source": [
    "It also has no correlation( r < 0.3) between the wind speed and the latitude in both Northern/Southern Hemisphere."
   ]
  },
  {
   "cell_type": "markdown",
   "metadata": {},
   "source": [
    "####  Southern Hemisphere - Wind Speed (mph) vs. Latitude Linear Regression"
   ]
  },
  {
   "cell_type": "code",
   "execution_count": 143,
   "metadata": {},
   "outputs": [
    {
     "name": "stdout",
     "output_type": "stream",
     "text": [
      "Tge r-value is: 0.009641181348361463\n"
     ]
    },
    {
     "data": {
      "image/png": "[encoded data removed]",
      "text/plain": [
       "<Figure size 432x288 with 1 Axes>"
      ]
     },
     "metadata": {
      "needs_background": "light"
     },
     "output_type": "display_data"
    }
   ],
   "source": [
    "x_values = south_df[\"Lat\"].astype('float')\n",
    "y_values = south_df[\"Wind Speed\"].astype('float')\n",
    "\n",
    "(slope, intercept, rvalue, pvalue, stderr) = linregress(x_values, y_values)\n",
    "regress_values = x_values * slope + intercept\n",
    "line_eq = \"y = \" + str(round(slope,2)) + \"x + \" + str(round(intercept,2))\n",
    "\n",
    "plt.scatter(x_values,y_values)\n",
    "plt.plot(x_values,regress_values,\"r-\")\n",
    "plt.annotate(line_eq,(6,10),fontsize=15,color=\"red\")\n",
    "plt.xlabel('Latitude')\n",
    "plt.ylabel('Wind Speed')\n",
    "\n",
    "print(f\"The r-value is: {rvalue**2}\")\n",
    "\n",
    "plt.show()"
   ]
  },
  {
   "cell_type": "markdown",
   "metadata": {},
   "source": [
    "Conclusion : The temperature is only factor stronly correlation with the latitude."
   ]
  }
 ],
 "metadata": {
  "anaconda-cloud": {},
  "kernel_info": {
   "name": "python3"
  },
  "kernelspec": {
   "display_name": "Python 3",
   "language": "python",
   "name": "python3"
  },
  "language_info": {
   "codemirror_mode": {
    "name": "ipython",
    "version": 3
   },
   "file_extension": ".py",
   "mimetype": "text/x-python",
   "name": "python",
   "nbconvert_exporter": "python",
   "pygments_lexer": "ipython3",
   "version": "3.8.3"
  },
  "latex_envs": {
   "LaTeX_envs_menu_present": true,
   "autoclose": false,
   "autocomplete": true,
   "bibliofile": "biblio.bib",
   "cite_by": "apalike",
   "current_citInitial": 1,
   "eqLabelWithNumbers": true,
   "eqNumInitial": 1,
   "hotkeys": {
    "equation": "Ctrl-E",
    "itemize": "Ctrl-I"
   },
   "labels_anchors": false,
   "latex_user_defs": false,
   "report_style_numbering": false,
   "user_envs_cfg": false
  },
  "nteract": {
   "version": "0.12.3"
  }
 },
 "nbformat": 4,
 "nbformat_minor": 2
}
